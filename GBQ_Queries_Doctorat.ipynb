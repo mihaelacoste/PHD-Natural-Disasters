{
  "nbformat": 4,
  "nbformat_minor": 0,
  "metadata": {
    "colab": {
      "provenance": [],
      "authorship_tag": "ABX9TyMQNIG0AfRdcDFEjewvKA9T",
      "include_colab_link": true
    },
    "kernelspec": {
      "name": "python3",
      "display_name": "Python 3"
    },
    "language_info": {
      "name": "python"
    }
  },
  "cells": [
    {
      "cell_type": "markdown",
      "metadata": {
        "id": "view-in-github",
        "colab_type": "text"
      },
      "source": [
        "<a href=\"https://colab.research.google.com/github/mihaelacoste/PHD-Natural-Disasters/blob/main/GBQ_Queries_Doctorat.ipynb\" target=\"_parent\"><img src=\"https://colab.research.google.com/assets/colab-badge.svg\" alt=\"Open In Colab\"/></a>"
      ]
    },
    {
      "cell_type": "markdown",
      "source": [
        "Useri care au postat in cel putin 2 dataseturi:\n"
      ],
      "metadata": {
        "id": "OYtk3YK1PpZW"
      }
    },
    {
      "cell_type": "code",
      "execution_count": null,
      "metadata": {
        "id": "gXO4ApgTPn0m"
      },
      "outputs": [],
      "source": [
        "select t1.ownerusername, count(distinct t1.id) as australia_posts, count(distinct t2.id) as hurricane_posts from `sublime-sunspot-410114.PHD.australian_wildfires` t1\n",
        "inner join\n",
        "`sublime-sunspot-410114.PHD.hurricane_irma` t2 on t1.ownerusername = t2.ownerusername\n",
        "group by 1 order by 2 desc --users which posted on 2 datasets -- 1 user"
      ]
    },
    {
      "cell_type": "code",
      "source": [
        "select t1.ownerusername, count(distinct t1.id) as hurricane_posts, count(distinct t2.id) as turkey_posts from `sublime-sunspot-410114.PHD.hurricane_irma` t1\n",
        "inner join\n",
        "`sublime-sunspot-410114.PHD.turkey_earthquake` t2 on t1.ownerusername = t2.ownerusername\n",
        "group by 1 order by 2 desc --users which posted on 2 datasets----1 user"
      ],
      "metadata": {
        "id": "DkiMh2wsPyEd"
      },
      "execution_count": null,
      "outputs": []
    },
    {
      "cell_type": "markdown",
      "source": [
        "Distributie nr postari/user/dataset – top users\n",
        "\n",
        "\n"
      ],
      "metadata": {
        "id": "4p58eY0PRiv4"
      }
    },
    {
      "cell_type": "code",
      "source": [
        "select ownerusername, count(distinct id) from `sublime-sunspot-410114.PHD.turkey_earthquake`\n",
        "group by 1 order by 2 desc --users with multiple posts in the dataset"
      ],
      "metadata": {
        "id": "E6g3IDoqRlWb"
      },
      "execution_count": null,
      "outputs": []
    },
    {
      "cell_type": "markdown",
      "source": [
        "\n",
        "Distributie hashtags per dataset\n",
        "\n"
      ],
      "metadata": {
        "id": "piqe9FhxRmEj"
      }
    },
    {
      "cell_type": "code",
      "source": [
        "SELECT\n",
        "  hashtag,\n",
        "  COUNT(hashtag) AS hashtag_count\n",
        "FROM\n",
        "  `sublime-sunspot-410114.PHD.hurricane_irma`\n",
        "  left join UNNEST(hashtags) AS hashtag\n",
        "GROUP BY\n",
        "  hashtag\n",
        "ORDER BY\n",
        "  hashtag_count DESC"
      ],
      "metadata": {
        "id": "hsR2_DTPR71E"
      },
      "execution_count": null,
      "outputs": []
    },
    {
      "cell_type": "code",
      "source": [
        "SELECT\n",
        "  hashtag,\n",
        "  COUNT(distinct id) AS ids\n",
        "FROM\n",
        "  `sublime-sunspot-410114.PHD.australianwildfires`\n",
        "  left join UNNEST(hashtags) AS hashtag\n",
        "where hashtag is not null and hashtag <> 'australianwildfires'\n",
        "  group by hashtag\n",
        "ORDER BY\n",
        "  ids DESC\n",
        "  limit 20"
      ],
      "metadata": {
        "id": "t1YolpbBb8lK"
      },
      "execution_count": null,
      "outputs": []
    },
    {
      "cell_type": "markdown",
      "source": [
        "Perechi de hashtag-uri co-ocurente\n"
      ],
      "metadata": {
        "id": "sraO9JrEukwZ"
      }
    },
    {
      "cell_type": "code",
      "source": [
        "SELECT\n",
        "  hashtag1,\n",
        "  hashtag2,\n",
        "  COUNT(*) AS pair_count\n",
        "FROM (\n",
        "SELECT\n",
        "  hashtag1,\n",
        "  hashtag2\n",
        "FROM\n",
        "  `sublime-sunspot-410114.PHD.australian_wildfires`\n",
        "  left join UNNEST(hashtags) AS hashtag1\n",
        "  left join UNNEST(hashtags) AS hashtag2\n",
        " WHERE\n",
        "  hashtag1 < hashtag2\n",
        ")\n",
        "GROUP BY\n",
        "  hashtag1, hashtag2\n",
        "ORDER BY\n",
        "  pair_count DESC;"
      ],
      "metadata": {
        "id": "laQ3oi8PukKC"
      },
      "execution_count": null,
      "outputs": []
    },
    {
      "cell_type": "markdown",
      "source": [
        "Hashtag-uri in toate cele trei seturi de date"
      ],
      "metadata": {
        "id": "BDo5nFJKSbI7"
      }
    },
    {
      "cell_type": "code",
      "source": [
        "SELECT\n",
        "  t1.hashtag as common_hashtag,\n",
        "  COUNT(DISTINCT t1.id) AS count_in_table1,\n",
        "  COUNT(DISTINCT t2.id) AS count_in_table2,\n",
        "  COUNT(DISTINCT t3.id) AS count_in_table3\n",
        "FROM\n",
        "  (\n",
        "    SELECT DISTINCT id, hashtag\n",
        "    FROM `sublime-sunspot-410114.PHD.australianwildfires`, UNNEST(hashtags) AS hashtag\n",
        "  ) t1\n",
        "JOIN (\n",
        "  SELECT DISTINCT id, hashtag\n",
        "  FROM `sublime-sunspot-410114.PHD.alluvioneemiliaromagna`, UNNEST(hashtags) AS hashtag\n",
        ") t2 on t1.hashtag = t2.hashtag\n",
        "JOIN (\n",
        "  SELECT DISTINCT id, hashtag\n",
        "  FROM `sublime-sunspot-410114.PHD.earthquake_turkey`, UNNEST(hashtags) AS hashtag\n",
        ") t3\n",
        "ON t1.hashtag = t2.hashtag and t2.hashtag = t3.hashtag\n",
        "GROUP BY t1.hashtag"
      ],
      "metadata": {
        "id": "4B0vxyDwSfPr"
      },
      "execution_count": null,
      "outputs": []
    },
    {
      "cell_type": "markdown",
      "source": [
        "Nr total, median, avg de hashtags per dataset\n",
        "\n"
      ],
      "metadata": {
        "id": "8GiHnOsqUrCx"
      }
    },
    {
      "cell_type": "code",
      "source": [
        "SELECT\n",
        "  COUNT(distinct hashtag) AS hashtag_total_count,\n",
        "FROM\n",
        "  `sublime-sunspot-410114.PHD.turkey_earthquake`\n",
        "  left join UNNEST(hashtags) AS hashtag"
      ],
      "metadata": {
        "id": "nL5SR9GpVbpF"
      },
      "execution_count": null,
      "outputs": []
    },
    {
      "cell_type": "code",
      "source": [
        "WITH HashtagCounts AS (\n",
        "  SELECT\n",
        "    id,\n",
        "    COUNT(DISTINCT hashtag) AS num_hashtags\n",
        "  FROM\n",
        "    `sublime-sunspot-410114.PHD.turkey_earthquake`,\n",
        "    UNNEST(hashtags) AS hashtag\n",
        "  GROUP BY\n",
        "    id\n",
        ")\n",
        "SELECT\n",
        "  SUM(num_hashtags) / COUNT(*) AS avg_hashtags_overall\n",
        "FROM\n",
        "  HashtagCounts"
      ],
      "metadata": {
        "id": "De1H_NrrZ9cQ"
      },
      "execution_count": null,
      "outputs": []
    },
    {
      "cell_type": "markdown",
      "source": [
        "Nr total, median, avg de like-uri per dataset\n"
      ],
      "metadata": {
        "id": "zJxYGRuweObu"
      }
    },
    {
      "cell_type": "code",
      "source": [
        "SELECT\n",
        " sum(likesCount) as total_likes,\n",
        " avg(likesCount) as avg_likes,\n",
        " APPROX_QUANTILES(likescount, 2)[OFFSET(1)] AS median_likescount,\n",
        " max(likescount) as max_likes\n",
        "FROM\n",
        "  `sublime-sunspot-410114.PHD.australian_wildfires`"
      ],
      "metadata": {
        "id": "oD4iRmMZeRrN"
      },
      "execution_count": null,
      "outputs": []
    },
    {
      "cell_type": "code",
      "source": [
        "SELECT\n",
        " sum(commentsCount) as total_comments,\n",
        " avg(commentsCount) as avg_comments,\n",
        " APPROX_QUANTILES(commentsCount, 2)[OFFSET(1)] AS median_comments,\n",
        " max(commentsCount) as max_comments\n",
        "FROM\n",
        "  `sublime-sunspot-410114.PHD.australian_wildfires`"
      ],
      "metadata": {
        "id": "ueANMOY8fi1L"
      },
      "execution_count": null,
      "outputs": []
    },
    {
      "cell_type": "markdown",
      "source": [
        "Location, date"
      ],
      "metadata": {
        "id": "WZg5sDCxhgpa"
      }
    },
    {
      "cell_type": "code",
      "source": [
        "  select date(timestamp) as date, count(distinct id) as count_posts, sum(likescount) as likes\n",
        "  from `sublime-sunspot-410114.PHD.hurricane_irma`\n",
        "  group by 1\n",
        "  order by 2 desc"
      ],
      "metadata": {
        "id": "yxApOoQPhdDa"
      },
      "execution_count": null,
      "outputs": []
    },
    {
      "cell_type": "code",
      "source": [
        "  select locationname, count(distinct id) as count_posts, sum(likescount) as likes\n",
        "  from `sublime-sunspot-410114.PHD.hurricane_irma`\n",
        "  group by 1\n",
        "  order by 2 desc"
      ],
      "metadata": {
        "id": "ST8MTteIhifS"
      },
      "execution_count": null,
      "outputs": []
    },
    {
      "cell_type": "markdown",
      "source": [
        "Lungime caption vs engagement"
      ],
      "metadata": {
        "id": "VXMgMXUObn9y"
      }
    },
    {
      "cell_type": "code",
      "source": [
        "SELECT id, length(caption) as caption_length, likescount, commentsCount FROM `sublime-sunspot-410114.PHD.hurricane_irma`\n",
        "order by likescount desc\n",
        "\n",
        "select avg(caption_length) as avg_caption_length from (\n",
        "  select id, length(caption) as caption_length from `sublime-sunspot-410114.PHD.hurricane_irma`\n",
        ")"
      ],
      "metadata": {
        "id": "kG2MF02pbpz6"
      },
      "execution_count": null,
      "outputs": []
    }
  ]
}